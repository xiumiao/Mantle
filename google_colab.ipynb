{
  "cells": [
    {
      "cell_type": "markdown",
      "metadata": {
        "id": "WAJ7lA2wuvR8"
      },
      "source": [
        "# 运行教程\n",
        "\n",
        "1. 点击“修改” -> \"笔记本设置\" -> \"硬件加速器GPU\" -> 保存\n",
        "<img src=\"https://z3.ax1x.com/2021/03/30/ciQWWV.png\">\n",
        "\n",
        "2. 点左侧文件夹图标，上传视频文件，复制上传的视频路径\n",
        "\n",
        "<img src=\"https://z3.ax1x.com/2021/03/30/cilvhq.png\">\n",
        "\n",
        "3. 运行代码， 输入粘贴的视频路径\n",
        "\n",
        "\n"
      ]
    },
    {
      "cell_type": "markdown",
      "metadata": {
        "id": "_jPi_FBwyZyr"
      },
      "source": [
        "查看是否有GPU"
      ]
    },
    {
      "cell_type": "code",
      "execution_count": null,
      "metadata": {
        "id": "eHPHc_Bheo-j"
      },
      "outputs": [],
      "source": [
        "!nvidia-smi"
      ]
    },
    {
      "cell_type": "code",
      "execution_count": null,
      "metadata": {
        "id": "TkQKKGKZkkT2"
      },
      "outputs": [],
      "source": [
        "!nvcc -V"
      ]
    },
    {
      "cell_type": "markdown",
      "metadata": {
        "id": "_85O6zgPyhto"
      },
      "source": [
        "# 安装依赖"
      ]
    },
    {
      "cell_type": "code",
      "execution_count": null,
      "metadata": {
        "id": "ICeq0T1FeqjT"
      },
      "outputs": [],
      "source": [
        "!git clone https://github.com/YaoFANGUK/video-subtitle-extractor.git"
      ]
    },
    {
      "cell_type": "code",
      "source": [
        "!git checkout -b dbus_work_ok1 2cf899f28dd6fb907d28dcc0720df122b341d020"
      ],
      "metadata": {
        "id": "_YrwB5ZQhTSh",
        "outputId": "878aa1eb-fb1a-463c-86c2-578a7553ee18",
        "colab": {
          "base_uri": "https://localhost:8080/"
        }
      },
      "execution_count": 4,
      "outputs": [
        {
          "output_type": "stream",
          "name": "stdout",
          "text": [
            "Switched to a new branch 'dbus_work_ok1'\n"
          ]
        }
      ]
    },
    {
      "cell_type": "code",
      "execution_count": 2,
      "metadata": {
        "id": "GHutEWynkMKR",
        "outputId": "71b343ce-d413-4e65-8b9c-5474c1056402",
        "colab": {
          "base_uri": "https://localhost:8080/"
        }
      },
      "outputs": [
        {
          "output_type": "stream",
          "name": "stdout",
          "text": [
            "/content/video-subtitle-extractor\n"
          ]
        }
      ],
      "source": [
        "cd video-subtitle-extractor"
      ]
    },
    {
      "cell_type": "code",
      "execution_count": 5,
      "metadata": {
        "id": "ynJydzo1kMKR",
        "outputId": "b6eedff7-e223-4413-f431-f9ce29eaa64e",
        "colab": {
          "base_uri": "https://localhost:8080/"
        }
      },
      "outputs": [
        {
          "output_type": "stream",
          "name": "stdout",
          "text": [
            "Collecting astor==0.8.1 (from -r requirements_gpu.txt (line 1))\n",
            "  Downloading astor-0.8.1-py2.py3-none-any.whl.metadata (4.2 kB)\n",
            "Collecting certifi==2021.10.8 (from -r requirements_gpu.txt (line 2))\n",
            "  Downloading certifi-2021.10.8-py2.py3-none-any.whl.metadata (3.0 kB)\n",
            "Collecting chardet==4.0.0 (from -r requirements_gpu.txt (line 3))\n",
            "  Downloading chardet-4.0.0-py2.py3-none-any.whl.metadata (3.5 kB)\n",
            "Collecting cycler==0.11.0 (from -r requirements_gpu.txt (line 4))\n",
            "  Downloading cycler-0.11.0-py3-none-any.whl.metadata (785 bytes)\n",
            "Collecting decorator==5.1.0 (from -r requirements_gpu.txt (line 5))\n",
            "  Downloading decorator-5.1.0-py3-none-any.whl.metadata (3.9 kB)\n",
            "Collecting filesplit==3.0.2 (from -r requirements_gpu.txt (line 6))\n",
            "  Downloading filesplit-3.0.2.tar.gz (5.7 kB)\n",
            "  Preparing metadata (setup.py) ... \u001b[?25l\u001b[?25hdone\n",
            "Collecting gast==0.5.3 (from -r requirements_gpu.txt (line 7))\n",
            "  Downloading gast-0.5.3-py3-none-any.whl.metadata (1.3 kB)\n",
            "Collecting idna==3.3 (from -r requirements_gpu.txt (line 8))\n",
            "  Downloading idna-3.3-py3-none-any.whl.metadata (9.8 kB)\n",
            "Collecting imageio==2.13.3 (from -r requirements_gpu.txt (line 9))\n",
            "  Downloading imageio-2.13.3-py3-none-any.whl.metadata (4.0 kB)\n",
            "Requirement already satisfied: imgaug==0.4.0 in /usr/local/lib/python3.10/dist-packages (from -r requirements_gpu.txt (line 10)) (0.4.0)\n",
            "Collecting kiwisolver==1.3.2 (from -r requirements_gpu.txt (line 11))\n",
            "  Downloading kiwisolver-1.3.2-cp310-cp310-manylinux_2_12_x86_64.manylinux2010_x86_64.whl.metadata (2.1 kB)\n",
            "Collecting lmdb==1.2.1 (from -r requirements_gpu.txt (line 12))\n",
            "  Downloading lmdb-1.2.1.tar.gz (881 kB)\n",
            "\u001b[2K     \u001b[90m━━━━━━━━━━━━━━━━━━━━━━━━━━━━━━━━━━━━━━━━\u001b[0m \u001b[32m881.5/881.5 kB\u001b[0m \u001b[31m20.8 MB/s\u001b[0m eta \u001b[36m0:00:00\u001b[0m\n",
            "\u001b[?25h  Preparing metadata (setup.py) ... \u001b[?25l\u001b[?25hdone\n",
            "Collecting matplotlib==3.5.1 (from -r requirements_gpu.txt (line 13))\n",
            "  Downloading matplotlib-3.5.1-cp310-cp310-manylinux_2_17_x86_64.manylinux2014_x86_64.whl.metadata (6.7 kB)\n",
            "Collecting networkx==2.6.3 (from -r requirements_gpu.txt (line 14))\n",
            "  Downloading networkx-2.6.3-py3-none-any.whl.metadata (5.0 kB)\n",
            "Collecting opencv-python==4.5.4.60 (from -r requirements_gpu.txt (line 15))\n",
            "  Downloading opencv_python-4.5.4.60-cp310-cp310-manylinux_2_17_x86_64.manylinux2014_x86_64.whl.metadata (18 kB)\n",
            "Collecting Pillow==8.4.0 (from -r requirements_gpu.txt (line 16))\n",
            "  Downloading Pillow-8.4.0-cp310-cp310-manylinux_2_17_x86_64.manylinux2014_x86_64.whl.metadata (7.5 kB)\n",
            "Collecting protobuf==3.19.1 (from -r requirements_gpu.txt (line 17))\n",
            "  Downloading protobuf-3.19.1-cp310-cp310-manylinux_2_17_x86_64.manylinux2014_x86_64.whl.metadata (806 bytes)\n",
            "Collecting pyclipper==1.3.0.post2 (from -r requirements_gpu.txt (line 18))\n",
            "  Downloading pyclipper-1.3.0.post2-cp310-cp310-manylinux_2_12_x86_64.manylinux2010_x86_64.whl.metadata (9.0 kB)\n",
            "Collecting pyparsing==3.0.6 (from -r requirements_gpu.txt (line 19))\n",
            "  Downloading pyparsing-3.0.6-py3-none-any.whl.metadata (4.2 kB)\n",
            "\u001b[31mERROR: Could not find a version that satisfies the requirement PySimpleGUI==4.55.1 (from versions: 4.60.5.0, 4.70.1, 5.0.0, 5.0.2, 5.0.3, 5.0.4, 5.0.5, 5.0.6, 5.0.7)\u001b[0m\u001b[31m\n",
            "\u001b[0m\u001b[31mERROR: No matching distribution found for PySimpleGUI==4.55.1\u001b[0m\u001b[31m\n",
            "\u001b[0m"
          ]
        }
      ],
      "source": [
        "!pip install -r requirements_gpu.txt"
      ]
    },
    {
      "cell_type": "code",
      "execution_count": null,
      "metadata": {
        "id": "3-GdvmaGl-aF"
      },
      "outputs": [],
      "source": [
        "!pip install paddlepaddle-gpu==2.4.2.post117 -f https://www.paddlepaddle.org.cn/whl/linux/mkl/avx/stable.html"
      ]
    },
    {
      "cell_type": "markdown",
      "metadata": {
        "id": "SGb0i3tPyw9Q"
      },
      "source": [
        "# 运行程序"
      ]
    },
    {
      "cell_type": "markdown",
      "metadata": {
        "id": "9G_yKqeWg1h9"
      },
      "source": [
        "输入视频路径，如：/content/video-subtitle-extractor/test/test_cn2.mp4\n",
        "\n",
        "输入字幕区域，如：842 1069 72 1368"
      ]
    },
    {
      "cell_type": "code",
      "execution_count": null,
      "metadata": {
        "id": "B2MPjMOOgGbD"
      },
      "outputs": [],
      "source": [
        "!python ./backend/main.py"
      ]
    }
  ],
  "metadata": {
    "accelerator": "GPU",
    "colab": {
      "name": "video-subtitle-extractor.ipynb",
      "provenance": []
    },
    "kernelspec": {
      "display_name": "Python 3 (ipykernel)",
      "language": "python",
      "name": "python3"
    },
    "language_info": {
      "codemirror_mode": {
        "name": "ipython",
        "version": 3
      },
      "file_extension": ".py",
      "mimetype": "text/x-python",
      "name": "python",
      "nbconvert_exporter": "python",
      "pygments_lexer": "ipython3",
      "version": "3.8.5"
    }
  },
  "nbformat": 4,
  "nbformat_minor": 0
}